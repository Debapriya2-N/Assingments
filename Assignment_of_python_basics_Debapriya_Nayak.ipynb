{
  "nbformat": 4,
  "nbformat_minor": 0,
  "metadata": {
    "colab": {
      "provenance": []
    },
    "kernelspec": {
      "name": "python3",
      "display_name": "Python 3"
    },
    "language_info": {
      "name": "python"
    }
  },
  "cells": [
    {
      "cell_type": "code",
      "execution_count": null,
      "metadata": {
        "id": "1tFuTDJasJPz"
      },
      "outputs": [],
      "source": []
    },
    {
      "cell_type": "markdown",
      "source": [
        "# Practical questions\n"
      ],
      "metadata": {
        "id": "xxcjqpgwsd8J"
      }
    },
    {
      "cell_type": "markdown",
      "source": [
        "1.What is Python, and why is it popular\n",
        "- Python is a high-level, interpreted programming language known for its simplicity, readability, and versatility. It was created by Guido van Rossum in 1991 and is widely used for various applications, including web development, data analysis, artificial intelligence, machine learning, and automation.also python have lerge number of liabrery\n",
        "\n",
        "2. What is an interpreter in Python ?\n",
        "-\n",
        "An interpreter in Python is a software program that executes Python code line by line. It reads and translates the high-level Python code into machine-readable instructions and runs them directly, rather than requiring a compilation step like in compiled languages\n",
        "\n",
        "\n",
        "\n",
        "3.What are pre-defined keywords in Python?\n",
        "-\n",
        "In Python, pre-defined keywords (also known as reserved keywords) are words that are reserved by the Python language because they have specific meanings and purposes. These keywords cannot be used as identifiers (e.g., variable names, function names) because doing so would cause a syntax error."
      ],
      "metadata": {
        "id": "8xF6GqzFsT_5"
      }
    },
    {
      "cell_type": "code",
      "source": [
        "help ('keywords')"
      ],
      "metadata": {
        "colab": {
          "base_uri": "https://localhost:8080/"
        },
        "id": "jk_zM_yM399z",
        "outputId": "88f6acc8-fc9f-4c3c-9bbd-57925a9f137d"
      },
      "execution_count": 1,
      "outputs": [
        {
          "output_type": "stream",
          "name": "stdout",
          "text": [
            "\n",
            "Here is a list of the Python keywords.  Enter any keyword to get more help.\n",
            "\n",
            "False               class               from                or\n",
            "None                continue            global              pass\n",
            "True                def                 if                  raise\n",
            "and                 del                 import              return\n",
            "as                  elif                in                  try\n",
            "assert              else                is                  while\n",
            "async               except              lambda              with\n",
            "await               finally             nonlocal            yield\n",
            "break               for                 not                 \n",
            "\n"
          ]
        }
      ]
    },
    {
      "cell_type": "markdown",
      "source": [
        "4.Can keywords be used as variable names?\n",
        "\n",
        "-No, keywords cannot be used as variable names in Python because they are reserved for specific syntactic purposes in the language. Using a keyword as a variable name would result in a syntax error.\n",
        "\n",
        "\n",
        "5.What is mutability in Python?\n",
        "\n",
        "-Mutability in Python refers to an object's ability to change its value or state after it has been created. Depending on their behavior, objects in Python are classified as either:\n",
        "\n",
        "Mutable Objects: Objects whose values can be changed after creation.\n",
        "Immutable Objects: Objects whose values cannot be changed after creation.\n",
        "\n",
        "\n",
        "6.Why are lists mutable, but tuples are immutable?\n",
        "\n",
        "-Lists are mutable because they are designed for dynamic collections that can change (e.g., adding, removing, or modifying elements). Tuples are immutable because they are meant for fixed, unchanging collections, ensuring data consistency and enabling optimizations like hashability and memory efficiency.\n",
        "\n",
        "\n",
        "7.What is the difference between “==” and “is” operators in Python?\n",
        "\n",
        "-  == checks if two objects have equal values where\n",
        "   is checks if two objects are the same in memory (i.e., identical objects).\n",
        "\n",
        "\n",
        "8.What are logical operators in Python?\n",
        "\n",
        "- Logical operators in Python are used to combine conditional statements:\n",
        "\n",
        "and: Returns True if both conditions are true.\n",
        "or: Returns True if at least one condition is true.\n",
        "not: Reverses the result, returns True if the condition is false.\n",
        "\n",
        "\n",
        "9.What is type casting in Python?\n",
        "- Type casting in Python is converting one data type to another.\n",
        "where there is 2 type\n",
        "1)implicit type casting , 2)explicit type casting\n",
        "\n",
        "\n",
        "10. What is the difference between implicit and explicit type casting?\n",
        "\n",
        "-Explicit Type Casting: Manually done by the programmer using functions like int(), float(), str(), etc\n",
        "\n",
        "Implicit Type Casting: Automatically done by Python when converting a smaller data type to a larger one (e.g., int to float)."
      ],
      "metadata": {
        "id": "QhySuyxW3-wA"
      }
    },
    {
      "cell_type": "code",
      "source": [
        "#explicit Using functions like int(), float(), str(), etc\n",
        "x = \"10\"\n",
        "y = int(x)  # Converts string to integer\n"
      ],
      "metadata": {
        "id": "OAOWjrZj6bpN"
      },
      "execution_count": 5,
      "outputs": []
    },
    {
      "cell_type": "markdown",
      "source": [],
      "metadata": {
        "id": "oxtGr1j66U7M"
      }
    },
    {
      "cell_type": "code",
      "source": [
        "#Implicit Casting: Automatically done by Python (e.g., from int to float)\n",
        "x = 5\n",
        "y = 2.0\n",
        "result = x + y  # Implicit casting to float\n"
      ],
      "metadata": {
        "id": "fvCWDcpHskep"
      },
      "execution_count": 4,
      "outputs": []
    },
    {
      "cell_type": "markdown",
      "source": [
        "11.What is the purpose of conditional statements in Python?\n",
        "\n",
        "-Conditional statements in Python control the flow of execution based on conditions.\n",
        "\n",
        "if: Executes a block of code if the condition is true.\n",
        "\n",
        "elif: Checks additional conditions if the previous ones are false.\n",
        "\n",
        "else: Executes a block of code if none of the previous conditions are true.\n",
        "\n",
        "\n",
        "12. How does the elif statement work?\n",
        "-The elif (else if) statement checks an additional condition if the previous if or elif conditions are false.\n",
        "\n",
        "It follows an if statement and provides alternative conditions to test.\n",
        "If the condition in elif is true, its block of code runs; otherwise, it moves to the next elif or else."
      ],
      "metadata": {
        "id": "mpSJ5B1863mC"
      }
    },
    {
      "cell_type": "code",
      "source": [
        "x = 10\n",
        "if x > 15:\n",
        "    print(\"Greater than 15\")\n",
        "elif x > 5:\n",
        "    print(\"Greater than 5 but less than or equal to 15\")  # This executes\n",
        "else:\n",
        "    print(\"5 or less\")\n"
      ],
      "metadata": {
        "colab": {
          "base_uri": "https://localhost:8080/"
        },
        "id": "nvRLPwp-8Akj",
        "outputId": "493cbfc3-c8ce-4b29-c178-adebcbbe8850"
      },
      "execution_count": 6,
      "outputs": [
        {
          "output_type": "stream",
          "name": "stdout",
          "text": [
            "Greater than 5 but less than or equal to 15\n"
          ]
        }
      ]
    },
    {
      "cell_type": "markdown",
      "source": [
        "13. What is the difference between for and while loops?\n",
        "- for loop: Iterates over a sequence (like a list, tuple, or range) a fixed number of times...\n",
        "\n",
        "- while loop: Repeats as long as a condition is true, with an unknown number of iterations.\n",
        "\n",
        "14.Describe a scenario where a while loop is more suitable than a for loop?\n",
        "\n",
        "-A while loop is more suitable when the number of iterations is not known in advance and depends on a condition that is checked during each iteration.\n",
        "\n",
        "Example: Waiting for user input until they enter a valid response."
      ],
      "metadata": {
        "id": "WAVrf2Vn8Ec0"
      }
    },
    {
      "cell_type": "code",
      "source": [
        "user_input = \"\"\n",
        "while user_input != \"yes\":\n",
        "    user_input = input(\"Please enter 'yes' to continue: \")\n"
      ],
      "metadata": {
        "colab": {
          "base_uri": "https://localhost:8080/"
        },
        "id": "S3YLdQrX8_lN",
        "outputId": "f393617c-f267-4fba-9270-274c2f0d79d5"
      },
      "execution_count": 7,
      "outputs": [
        {
          "name": "stdout",
          "output_type": "stream",
          "text": [
            "Please enter 'yes' to continue: yes\n"
          ]
        }
      ]
    },
    {
      "cell_type": "markdown",
      "source": [
        "#Practical Questions\n"
      ],
      "metadata": {
        "id": "RAInAeNH9QoM"
      }
    },
    {
      "cell_type": "markdown",
      "source": [
        "1.Write a Python program to print \"Hello, World!"
      ],
      "metadata": {
        "id": "j9wCs2me9WkT"
      }
    },
    {
      "cell_type": "code",
      "source": [
        "print(\"hello world!\")"
      ],
      "metadata": {
        "colab": {
          "base_uri": "https://localhost:8080/"
        },
        "id": "DPsze8o_9cSj",
        "outputId": "7acf6b7b-0c4b-4f24-83cd-ec652805f98d"
      },
      "execution_count": 11,
      "outputs": [
        {
          "output_type": "stream",
          "name": "stdout",
          "text": [
            "hello world!\n"
          ]
        }
      ]
    },
    {
      "cell_type": "markdown",
      "source": [
        "2.Write a Python program that displays your name and age"
      ],
      "metadata": {
        "id": "ryOigq9390n1"
      }
    },
    {
      "cell_type": "code",
      "source": [
        "name = \"Debapriya Nayak\"\n",
        "age = 25  # Replace with your actual age\n",
        "print(\"Name:\", name)\n",
        "print(\"Age:\", age)\n"
      ],
      "metadata": {
        "colab": {
          "base_uri": "https://localhost:8080/"
        },
        "id": "qvQgpoSW92o7",
        "outputId": "cca960ab-6bd4-493d-f9d3-00409e85a655"
      },
      "execution_count": 12,
      "outputs": [
        {
          "output_type": "stream",
          "name": "stdout",
          "text": [
            "Name: Debapriya Nayak\n",
            "Age: 25\n"
          ]
        }
      ]
    },
    {
      "cell_type": "markdown",
      "source": [
        "3.Write code to print all the pre-defined keywords in Python using the keyword library"
      ],
      "metadata": {
        "id": "ADeTnqUJ-CdF"
      }
    },
    {
      "cell_type": "code",
      "source": [
        "import keyword\n",
        "print(keyword.kwlist)\n"
      ],
      "metadata": {
        "colab": {
          "base_uri": "https://localhost:8080/"
        },
        "id": "QzICFSAV-F8d",
        "outputId": "023e0c2e-d915-44f2-f154-07e782d67b77"
      },
      "execution_count": 13,
      "outputs": [
        {
          "output_type": "stream",
          "name": "stdout",
          "text": [
            "['False', 'None', 'True', 'and', 'as', 'assert', 'async', 'await', 'break', 'class', 'continue', 'def', 'del', 'elif', 'else', 'except', 'finally', 'for', 'from', 'global', 'if', 'import', 'in', 'is', 'lambda', 'nonlocal', 'not', 'or', 'pass', 'raise', 'return', 'try', 'while', 'with', 'yield']\n"
          ]
        }
      ]
    },
    {
      "cell_type": "markdown",
      "source": [
        "4. Write a program that checks if a given word is a Python keyword?"
      ],
      "metadata": {
        "id": "EL-qC_AT-L9K"
      }
    },
    {
      "cell_type": "code",
      "source": [
        "import keyword\n",
        "\n",
        "word = input(\"Enter a word: \")\n",
        "if keyword.iskeyword(word):\n",
        "    print(f\"'{word}' is a Python keyword.\")\n",
        "else:\n",
        "    print(f\"'{word}' is not a Python keyword.\")\n"
      ],
      "metadata": {
        "colab": {
          "base_uri": "https://localhost:8080/"
        },
        "id": "Tsg29n5C-Qb4",
        "outputId": "8aa23410-caed-4f63-abeb-9de85051f169"
      },
      "execution_count": 17,
      "outputs": [
        {
          "output_type": "stream",
          "name": "stdout",
          "text": [
            "Enter a word: elif\n",
            "'elif' is a Python keyword.\n"
          ]
        }
      ]
    },
    {
      "cell_type": "markdown",
      "source": [
        "5. Create a list and tuple in Python, and demonstrate how attempting to change an element works differently\n",
        "for each"
      ],
      "metadata": {
        "id": "lXLVyFOI-ity"
      }
    },
    {
      "cell_type": "code",
      "source": [
        "my_list = [1, 2, 3]\n",
        "my_tuple = (1, 2, 3)\n",
        "my_list[0] = 10\n",
        "# Trying to modify an element in the tuple (raises an error)\n",
        "try:\n",
        "    my_tuple[0] = 10\n",
        "except TypeError as e:\n",
        "    print(\"Error:\", e)"
      ],
      "metadata": {
        "colab": {
          "base_uri": "https://localhost:8080/"
        },
        "id": "_dGBUE6y-nw3",
        "outputId": "6314ec9f-4b7a-46a2-854d-c8829710c812"
      },
      "execution_count": 1,
      "outputs": [
        {
          "output_type": "stream",
          "name": "stdout",
          "text": [
            "Error: 'tuple' object does not support item assignment\n"
          ]
        }
      ]
    },
    {
      "cell_type": "markdown",
      "source": [
        "6. Write a function to demonstrate the behavior of mutable and immutable arguments?"
      ],
      "metadata": {
        "id": "HBH97n7Ta6Po"
      }
    },
    {
      "cell_type": "code",
      "source": [
        "def demo_mutable_immutable(mutable_arg, immutable_arg):\n",
        "    # Modifying mutable argument (list)\n",
        "    mutable_arg.append(4)\n",
        "\n",
        "    # Trying to modify immutable argument (string)\n",
        "    immutable_arg = \"New String\"\n",
        "\n",
        "    print(\"Modified mutable argument:\", mutable_arg)\n",
        "    print(\"Modified immutable argument:\", immutable_arg)\n",
        "\n",
        "# Test\n",
        "my_list = [1, 2, 3]\n",
        "my_string = \"Original String\"\n",
        "\n",
        "demo_mutable_immutable(my_list, my_string)\n",
        "\n",
        "# Check the original variables\n",
        "print(\"Original list after function call:\", my_list)\n",
        "print(\"Original string after function call:\", my_string)\n"
      ],
      "metadata": {
        "colab": {
          "base_uri": "https://localhost:8080/"
        },
        "id": "0Lcfz34Ka_PS",
        "outputId": "77553e1f-130a-4cbe-cfb4-5a1bf99c7bcd"
      },
      "execution_count": 5,
      "outputs": [
        {
          "output_type": "stream",
          "name": "stdout",
          "text": [
            "Modified mutable argument: [1, 2, 3, 4]\n",
            "Modified immutable argument: New String\n",
            "Original list after function call: [1, 2, 3, 4]\n",
            "Original string after function call: Original String\n"
          ]
        }
      ]
    },
    {
      "cell_type": "markdown",
      "source": [
        "7. Write a function to demonstrate the behavior of mutable and immutable arguments"
      ],
      "metadata": {
        "id": "wS-AE8D1bYUc"
      }
    },
    {
      "cell_type": "code",
      "source": [],
      "metadata": {
        "id": "0yC_LMyWbdKa"
      },
      "execution_count": null,
      "outputs": []
    },
    {
      "cell_type": "markdown",
      "source": [
        "8.Write a program to demonstrate the use of logical operators?\n"
      ],
      "metadata": {
        "id": "DWZTNZ6Ibuds"
      }
    },
    {
      "cell_type": "code",
      "source": [
        "x = 10\n",
        "y = 5\n",
        "z = 15\n",
        "\n",
        "# Using 'and' operator\n",
        "if x > y and z > x:\n",
        "    print(\"Both conditions are true (x > y and z > x)\")\n",
        "\n",
        "# Using 'or' operator\n",
        "if x > y or x > z:\n",
        "    print(\"At least one condition is true (x > y or x > z)\")\n",
        "\n",
        "# Using 'not' operator\n",
        "if not (x < y):\n",
        "    print(\"x is not less than y\")\n"
      ],
      "metadata": {
        "colab": {
          "base_uri": "https://localhost:8080/"
        },
        "id": "G9QZelvAbx1N",
        "outputId": "b85fd6fa-32e1-486d-fec6-1ee1362a1b26"
      },
      "execution_count": 6,
      "outputs": [
        {
          "output_type": "stream",
          "name": "stdout",
          "text": [
            "Both conditions are true (x > y and z > x)\n",
            "At least one condition is true (x > y or x > z)\n",
            "x is not less than y\n"
          ]
        }
      ]
    },
    {
      "cell_type": "markdown",
      "source": [
        "9.Write a Python program to convert user input from string to integer, float, and boolean types?"
      ],
      "metadata": {
        "id": "HOLRYR1Xb5GX"
      }
    },
    {
      "cell_type": "code",
      "source": [
        "# Taking user input as string\n",
        "user_input = input(\"Enter a value: \")\n",
        "\n",
        "# Converting to integer\n",
        "int_value = int(user_input)  # Converts string to integer\n",
        "print(f\"Integer value: {int_value}\")\n",
        "\n",
        "# Converting to float\n",
        "float_value = float(user_input)  # Converts string to float\n",
        "print(f\"Float value: {float_value}\")\n",
        "\n",
        "# Converting to boolean\n",
        "bool_value = bool(user_input)  # Converts string to boolean\n",
        "print(f\"Boolean value: {bool_value}\")\n"
      ],
      "metadata": {
        "colab": {
          "base_uri": "https://localhost:8080/"
        },
        "id": "YQjyPWowb-1i",
        "outputId": "a7b417c2-79c9-4ad5-e650-35f3d3859e88"
      },
      "execution_count": 9,
      "outputs": [
        {
          "output_type": "stream",
          "name": "stdout",
          "text": [
            "Enter a value: 5\n",
            "Integer value: 5\n",
            "Float value: 5.0\n",
            "Boolean value: True\n"
          ]
        }
      ]
    },
    {
      "cell_type": "markdown",
      "source": [
        "10.Write code to demonstrate type casting with list elements?\n"
      ],
      "metadata": {
        "id": "UDKcjxgTcT7u"
      }
    },
    {
      "cell_type": "code",
      "source": [
        "# List with different data types (all as strings)\n",
        "my_list = ['1', '2.5', 'True']\n",
        "\n",
        "# Convert each element to a different type\n",
        "int_list = [int(x) if x.isdigit() else 0 for x in my_list]  # Convert to integers\n",
        "float_list = [float(x) if x.replace('.', '', 1).isdigit() else 0.0 for x in my_list]  # Convert to floats\n",
        "bool_list = [bool(x) for x in my_list]  # Convert to booleans\n",
        "\n",
        "# Display the results\n",
        "print(\"Original List:\", my_list)\n",
        "print(\"List after converting to integers:\", int_list)\n",
        "print(\"List after converting to floats:\", float_list)\n",
        "print(\"List after converting to booleans:\", bool_list)\n"
      ],
      "metadata": {
        "colab": {
          "base_uri": "https://localhost:8080/"
        },
        "id": "0AcHy-wRceS_",
        "outputId": "f290faf5-4d7b-4650-b760-7f34c9c358e6"
      },
      "execution_count": 10,
      "outputs": [
        {
          "output_type": "stream",
          "name": "stdout",
          "text": [
            "Original List: ['1', '2.5', 'True']\n",
            "List after converting to integers: [1, 0, 0]\n",
            "List after converting to floats: [1.0, 2.5, 0.0]\n",
            "List after converting to booleans: [True, True, True]\n"
          ]
        }
      ]
    },
    {
      "cell_type": "markdown",
      "source": [
        "11.0 Write a program that checks if a number is positive, negative, or zero?"
      ],
      "metadata": {
        "id": "ZvDf-JgXcg6M"
      }
    },
    {
      "cell_type": "code",
      "source": [
        "# Take user input\n",
        "num = float(input(\"Enter a number: \"))\n",
        "\n",
        "# Check if the number is positive, negative, or zero\n",
        "if num > 0:\n",
        "    print(\"The number is positive.\")\n",
        "elif num < 0:\n",
        "    print(\"The number is negative.\")\n",
        "else:\n",
        "    print(\"The number is zero.\")\n"
      ],
      "metadata": {
        "colab": {
          "base_uri": "https://localhost:8080/"
        },
        "id": "tvVr_XP7clQT",
        "outputId": "25ccc3cc-2e12-4eaa-d5fe-31c06ffd4215"
      },
      "execution_count": 12,
      "outputs": [
        {
          "output_type": "stream",
          "name": "stdout",
          "text": [
            "Enter a number: 6\n",
            "The number is positive.\n"
          ]
        }
      ]
    },
    {
      "cell_type": "markdown",
      "source": [
        "12.Write a for loop to print numbers from 1 to 100"
      ],
      "metadata": {
        "id": "6VT8e-UJdZ3d"
      }
    },
    {
      "cell_type": "code",
      "source": [
        "for i in range(1, 101):\n",
        "    print(i)\n"
      ],
      "metadata": {
        "colab": {
          "base_uri": "https://localhost:8080/"
        },
        "id": "q_V3x9KAdd1M",
        "outputId": "eff527e5-15d3-4add-86f3-bbfcd214a42d"
      },
      "execution_count": 14,
      "outputs": [
        {
          "output_type": "stream",
          "name": "stdout",
          "text": [
            "1\n",
            "2\n",
            "3\n",
            "4\n",
            "5\n",
            "6\n",
            "7\n",
            "8\n",
            "9\n",
            "10\n",
            "11\n",
            "12\n",
            "13\n",
            "14\n",
            "15\n",
            "16\n",
            "17\n",
            "18\n",
            "19\n",
            "20\n",
            "21\n",
            "22\n",
            "23\n",
            "24\n",
            "25\n",
            "26\n",
            "27\n",
            "28\n",
            "29\n",
            "30\n",
            "31\n",
            "32\n",
            "33\n",
            "34\n",
            "35\n",
            "36\n",
            "37\n",
            "38\n",
            "39\n",
            "40\n",
            "41\n",
            "42\n",
            "43\n",
            "44\n",
            "45\n",
            "46\n",
            "47\n",
            "48\n",
            "49\n",
            "50\n",
            "51\n",
            "52\n",
            "53\n",
            "54\n",
            "55\n",
            "56\n",
            "57\n",
            "58\n",
            "59\n",
            "60\n",
            "61\n",
            "62\n",
            "63\n",
            "64\n",
            "65\n",
            "66\n",
            "67\n",
            "68\n",
            "69\n",
            "70\n",
            "71\n",
            "72\n",
            "73\n",
            "74\n",
            "75\n",
            "76\n",
            "77\n",
            "78\n",
            "79\n",
            "80\n",
            "81\n",
            "82\n",
            "83\n",
            "84\n",
            "85\n",
            "86\n",
            "87\n",
            "88\n",
            "89\n",
            "90\n",
            "91\n",
            "92\n",
            "93\n",
            "94\n",
            "95\n",
            "96\n",
            "97\n",
            "98\n",
            "99\n",
            "100\n"
          ]
        }
      ]
    },
    {
      "cell_type": "markdown",
      "source": [
        "13.Write a Python program to find the sum of all even numbers between 1 and 50"
      ],
      "metadata": {
        "id": "2zoIorjJdrXx"
      }
    },
    {
      "cell_type": "code",
      "source": [
        "sum_even = 0\n",
        "for i in range(2, 51, 2):  # Start from 2, step by 2 (even numbers)\n",
        "    sum_even += i\n",
        "\n",
        "print(\"Sum of all even numbers between 1 and 50:\", sum_even)\n"
      ],
      "metadata": {
        "colab": {
          "base_uri": "https://localhost:8080/"
        },
        "id": "-aDkEv7qdult",
        "outputId": "cdec1223-04f8-48ec-d81f-417335b7033d"
      },
      "execution_count": 15,
      "outputs": [
        {
          "output_type": "stream",
          "name": "stdout",
          "text": [
            "Sum of all even numbers between 1 and 50: 650\n"
          ]
        }
      ]
    },
    {
      "cell_type": "markdown",
      "source": [
        "14.Write a program to reverse a string using a while loop?"
      ],
      "metadata": {
        "id": "xR3GdU1Bd1Wo"
      }
    },
    {
      "cell_type": "code",
      "source": [
        "# Take user input\n",
        "string = input(\"Enter a string: \")\n",
        "\n",
        "# Initialize variables\n",
        "reversed_string = \"\"\n",
        "i = len(string) - 1\n",
        "\n",
        "# Reverse the string using a while loop\n",
        "while i >= 0:\n",
        "    reversed_string += string[i]\n",
        "    i -= 1\n",
        "\n",
        "print(\"Reversed string:\", reversed_string)\n"
      ],
      "metadata": {
        "colab": {
          "base_uri": "https://localhost:8080/"
        },
        "id": "i6C9A844d6pF",
        "outputId": "3355f9cf-f6ac-471b-c5a0-8c9a54c63293"
      },
      "execution_count": 17,
      "outputs": [
        {
          "output_type": "stream",
          "name": "stdout",
          "text": [
            "Enter a string: 29.5\n",
            "Reversed string: 5.92\n"
          ]
        }
      ]
    },
    {
      "cell_type": "markdown",
      "source": [
        "15.Write a Python program to calculate the factorial of a number provided by the user using a while loop."
      ],
      "metadata": {
        "id": "apJJ-dFbeM5B"
      }
    },
    {
      "cell_type": "code",
      "source": [
        "# Take user input\n",
        "num = int(input(\"Enter a number: \"))\n",
        "\n",
        "# Initialize factorial result\n",
        "factorial = 1\n",
        "\n",
        "# Calculate factorial using a while loop\n",
        "while num > 1:\n",
        "    factorial *= num\n",
        "    num -= 1\n",
        "\n",
        "print(\"Factorial:\", factorial)\n"
      ],
      "metadata": {
        "colab": {
          "base_uri": "https://localhost:8080/"
        },
        "id": "x_Z_ladWeO4O",
        "outputId": "f595d860-5003-4c2a-8357-15479965e4e8"
      },
      "execution_count": 18,
      "outputs": [
        {
          "output_type": "stream",
          "name": "stdout",
          "text": [
            "Enter a number: 34\n",
            "Factorial: 295232799039604140847618609643520000000\n"
          ]
        }
      ]
    },
    {
      "cell_type": "code",
      "source": [],
      "metadata": {
        "id": "lt0IiEOUeSjC"
      },
      "execution_count": null,
      "outputs": []
    }
  ]
}